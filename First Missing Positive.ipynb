{
 "cells": [
  {
   "cell_type": "markdown",
   "metadata": {},
   "source": [
    "# 41. First Missing Positive\n",
    "\n",
    "### Given an unsorted integer array, find the smallest missing positive integer.\n",
    "\n",
    "## Example 1:\n",
    "\n",
    "Input: [1,2,0]\n",
    "Output: 3\n",
    "\n",
    "## Example 2:\n",
    "\n",
    "Input: [3,4,-1,1]\n",
    "Output: 2\n",
    "\n",
    "## Example 3:\n",
    "\n",
    "Input: [7,8,9,11,12]\n",
    "Output: 1\n",
    "\n",
    "Note:\n",
    "\n",
    "Your algorithm should run in O(n) time and uses constant extra space.\n",
    "\n"
   ]
  },
  {
   "cell_type": "code",
   "execution_count": 14,
   "metadata": {
    "collapsed": true
   },
   "outputs": [],
   "source": [
    "# Time Complexity: O(n)\n",
    "class Solution:\n",
    "    def firstMissingPositive(self, nums):\n",
    "        \"\"\"\n",
    "        :type nums: List[int]\n",
    "        :rtype: int\n",
    "        \"\"\"\n",
    "        res = 1\n",
    "        if len(nums) == 0:\n",
    "            return res\n",
    "        for i in range(1,max(nums)+1):\n",
    "            if len([d for d in nums if d == i])==0:\n",
    "                res = i\n",
    "                return res\n",
    "        res = max(nums)+1\n",
    "        return res\n",
    "            "
   ]
  },
  {
   "cell_type": "code",
   "execution_count": 16,
   "metadata": {},
   "outputs": [
    {
     "name": "stdout",
     "output_type": "stream",
     "text": [
      "1\n"
     ]
    }
   ],
   "source": [
    "nums = []\n",
    "d = Solution()\n",
    "print(d.firstMissingPositive(nums))"
   ]
  },
  {
   "cell_type": "code",
   "execution_count": 18,
   "metadata": {},
   "outputs": [
    {
     "name": "stdout",
     "output_type": "stream",
     "text": [
      "3\n"
     ]
    }
   ],
   "source": [
    "nums = [-1,0,1,2,4,6]\n",
    "d = Solution()\n",
    "print(d.firstMissingPositive(nums))"
   ]
  }
 ],
 "metadata": {
  "kernelspec": {
   "display_name": "Python 3",
   "language": "python",
   "name": "python3"
  },
  "language_info": {
   "codemirror_mode": {
    "name": "ipython",
    "version": 3
   },
   "file_extension": ".py",
   "mimetype": "text/x-python",
   "name": "python",
   "nbconvert_exporter": "python",
   "pygments_lexer": "ipython3",
   "version": "3.6.1"
  }
 },
 "nbformat": 4,
 "nbformat_minor": 2
}
