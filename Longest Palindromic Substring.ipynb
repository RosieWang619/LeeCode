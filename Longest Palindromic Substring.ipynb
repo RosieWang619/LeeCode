{
 "cells": [
  {
   "cell_type": "markdown",
   "metadata": {},
   "source": [
    "# 5. Longest Substring Without Repeating Characters\n",
    "### Given a string s, find the longest palindromic substring in s. You may assume that the maximum length of s is 1000.\n",
    "\n",
    "\n",
    "## Examples:\n",
    "\n",
    "Input: \"babad\"\n",
    "Output: \"bab\"\n",
    "Note: \"aba\" is also a valid answer.\n",
    "\n",
    "Input: \"cbbd\"\n",
    "Output: \"bb\""
   ]
  },
  {
   "cell_type": "code",
   "execution_count": 20,
   "metadata": {
    "collapsed": true
   },
   "outputs": [],
   "source": [
    "# Time Complexity: O(n^2)\n",
    "class Solution:\n",
    "    def longestPalindrome(self, s):\n",
    "        \"\"\"\n",
    "        :type s: str\n",
    "        :rtype: str\n",
    "        \"\"\"\n",
    "        res = ''\n",
    "        for i in range(len(s)):\n",
    "            tmp = self.helper(s, i, i)\n",
    "            if len(tmp)>len(res):\n",
    "                res = tmp\n",
    "            tmp = self.helper(s, i, i+1)\n",
    "            if len(tmp)>len(res):\n",
    "                res = tmp\n",
    "        return res\n",
    "    \n",
    "    def helper(self, s, l, r):\n",
    "        while l >=0 and r < len(s) and s[l]==s[r]:\n",
    "            l-=1\n",
    "            r+=1\n",
    "        return s[l+1:r]"
   ]
  },
  {
   "cell_type": "code",
   "execution_count": 22,
   "metadata": {},
   "outputs": [
    {
     "name": "stdout",
     "output_type": "stream",
     "text": [
      "bab\n"
     ]
    }
   ],
   "source": [
    "s = 'babadaaasdf'\n",
    "d = Solution()\n",
    "print(d.longestPalindrome(s))"
   ]
  },
  {
   "cell_type": "code",
   "execution_count": 7,
   "metadata": {},
   "outputs": [
    {
     "name": "stdout",
     "output_type": "stream",
     "text": [
      "0 b\n",
      "1 a\n",
      "2 b\n",
      "3 a\n",
      "4 d\n"
     ]
    }
   ],
   "source": [
    "temp = []\n",
    "for i in range(len(s)):\n",
    "    for j in range(1, len(s)):\n",
    "        if s[i] == s[-j]:\n",
    "            temp1 = s[i:len(s)-j+1]\n",
    "            \n",
    "            \n",
    "    print(i,s[i])"
   ]
  },
  {
   "cell_type": "code",
   "execution_count": null,
   "metadata": {
    "collapsed": true
   },
   "outputs": [],
   "source": []
  }
 ],
 "metadata": {
  "kernelspec": {
   "display_name": "Python 3",
   "language": "python",
   "name": "python3"
  },
  "language_info": {
   "codemirror_mode": {
    "name": "ipython",
    "version": 3
   },
   "file_extension": ".py",
   "mimetype": "text/x-python",
   "name": "python",
   "nbconvert_exporter": "python",
   "pygments_lexer": "ipython3",
   "version": "3.6.1"
  }
 },
 "nbformat": 4,
 "nbformat_minor": 2
}
