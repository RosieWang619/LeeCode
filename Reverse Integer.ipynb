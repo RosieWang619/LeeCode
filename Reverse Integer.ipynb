{
 "cells": [
  {
   "cell_type": "markdown",
   "metadata": {},
   "source": [
    "## 7. Reverse Integer\n",
    "Given a 32-bit signed integer, reverse digits of an integer.\n",
    "\n",
    "### Example 1:\n",
    "Input: 123\n",
    "Output: 321\n",
    "\n",
    "### Example 2:\n",
    "\n",
    "Input: -123\n",
    "Output: -321\n",
    "\n",
    "### Example 3:\n",
    "\n",
    "Input: 120\n",
    "Output: 21\n",
    "\n",
    "### Note:\n",
    "Assume we are dealing with an environment which could only store integers within the 32-bit signed integer range: [−231,  231 − 1]. For the purpose of this problem, assume that your function returns 0 when the reversed integer overflows.\n",
    "\n"
   ]
  },
  {
   "cell_type": "code",
   "execution_count": 35,
   "metadata": {},
   "outputs": [],
   "source": [
    "# Time Complexity: O(n)\n",
    "class Solution:\n",
    "    def reverse(self, x):\n",
    "        \"\"\"\n",
    "        :type x: int\n",
    "        :rtype: int\n",
    "        \"\"\"\n",
    "        if x > 0 or x ==0:\n",
    "            res = list(str(x))\n",
    "            res.reverse()\n",
    "        else:\n",
    "            res = list(str(-x))\n",
    "            res.reverse()\n",
    "            res = ['-']+res\n",
    "        res = int(''.join(res))\n",
    "        return res if abs(res) < 0x7fffffff else 0"
   ]
  },
  {
   "cell_type": "code",
   "execution_count": 36,
   "metadata": {},
   "outputs": [
    {
     "name": "stdout",
     "output_type": "stream",
     "text": [
      "-21\n"
     ]
    }
   ],
   "source": [
    "nums1 = -120\n",
    "d = Solution()\n",
    "print(d.reverse(nums1))"
   ]
  },
  {
   "cell_type": "code",
   "execution_count": 37,
   "metadata": {},
   "outputs": [],
   "source": [
    "# Time Complexity: O(n)\n",
    "# Use sign\n",
    "class Solution:\n",
    "    def reverse(self, x):\n",
    "        s=1 if x >0 else -1\n",
    "        x=x*s\n",
    "        strx=str(x)\n",
    "        rst=int((strx[0:])[::-1])\n",
    "        return rst*s*(rst<0x7FFFFFFF)"
   ]
  },
  {
   "cell_type": "code",
   "execution_count": 38,
   "metadata": {},
   "outputs": [
    {
     "name": "stdout",
     "output_type": "stream",
     "text": [
      "-21\n"
     ]
    }
   ],
   "source": [
    "nums1 = -120\n",
    "d = Solution()\n",
    "print(d.reverse(nums1))"
   ]
  },
  {
   "cell_type": "code",
   "execution_count": null,
   "metadata": {
    "collapsed": true
   },
   "outputs": [],
   "source": []
  }
 ],
 "metadata": {
  "kernelspec": {
   "display_name": "Python 3",
   "language": "python",
   "name": "python3"
  },
  "language_info": {
   "codemirror_mode": {
    "name": "ipython",
    "version": 3
   },
   "file_extension": ".py",
   "mimetype": "text/x-python",
   "name": "python",
   "nbconvert_exporter": "python",
   "pygments_lexer": "ipython3",
   "version": "3.6.1"
  }
 },
 "nbformat": 4,
 "nbformat_minor": 2
}
