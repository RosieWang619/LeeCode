{
 "cells": [
  {
   "cell_type": "markdown",
   "metadata": {},
   "source": [
    "# 3. Longest Substring Without Repeating Characters\n",
    "### Given a string, find the length of the longest substring without repeating characters.\n",
    "\n",
    "## Examples:\n",
    "\n",
    "Given \"abcabcbb\", the answer is \"abc\", which the length is 3.\n",
    "\n",
    "Given \"bbbbb\", the answer is \"b\", with the length of 1.\n",
    "\n",
    "Given \"pwwkew\", the answer is \"wke\", with the length of 3. Note that the answer must be a substring, \"pwke\" is a subsequence and not a substring."
   ]
  },
  {
   "cell_type": "code",
   "execution_count": 97,
   "metadata": {
    "collapsed": true
   },
   "outputs": [],
   "source": [
    "# Time Complexity: O(n^2)\n",
    "class Solution:\n",
    "    def __init__(self, s):\n",
    "        self.s = s\n",
    "        \n",
    "    def lengthOfLongestSubstring(self, s):\n",
    "        \"\"\"\n",
    "        :type s: str\n",
    "        :rtype: int\n",
    "        \"\"\"\n",
    "        if self.s != '':\n",
    "            self.s = list(self.s)\n",
    "            l = []\n",
    "            for i in range(0,len(self.s)):\n",
    "                temp = [self.s[i]]\n",
    "                for j in range(i+1, len(self.s)):\n",
    "                    if self.s[j] != self.s[j-1] and len(temp) == len(set(temp)):\n",
    "                        temp.append(self.s[j])\n",
    "                    else:\n",
    "                        break\n",
    "                l.append(len(set(temp)))\n",
    "            return max(l)\n",
    "        return 0"
   ]
  },
  {
   "cell_type": "code",
   "execution_count": 98,
   "metadata": {},
   "outputs": [
    {
     "name": "stdout",
     "output_type": "stream",
     "text": [
      "5\n"
     ]
    }
   ],
   "source": [
    "a = 'ckilbkd'\n",
    "d = Solution(a)\n",
    "print(d.lengthOfLongestSubstring(a))"
   ]
  },
  {
   "cell_type": "markdown",
   "metadata": {},
   "source": [
    "### Quicker running time:"
   ]
  },
  {
   "cell_type": "code",
   "execution_count": 99,
   "metadata": {
    "collapsed": true
   },
   "outputs": [],
   "source": [
    "# Time Complexity: O(n)\n",
    "class Solution:\n",
    "    # @return an integer\n",
    "    def lengthOfLongestSubstring(self, s):\n",
    "        start = maxLength = 0\n",
    "        usedChar = {}\n",
    "        \n",
    "        for i in range(len(s)):\n",
    "            if s[i] in usedChar and start <= usedChar[s[i]]:\n",
    "                start = usedChar[s[i]] + 1\n",
    "            else:\n",
    "                maxLength = max(maxLength, i - start + 1)\n",
    "\n",
    "            usedChar[s[i]] = i\n",
    "\n",
    "        return maxLength"
   ]
  },
  {
   "cell_type": "code",
   "execution_count": 101,
   "metadata": {},
   "outputs": [
    {
     "name": "stdout",
     "output_type": "stream",
     "text": [
      "5\n"
     ]
    }
   ],
   "source": [
    "d = Solution()\n",
    "print(d.lengthOfLongestSubstring(a))"
   ]
  },
  {
   "cell_type": "code",
   "execution_count": 112,
   "metadata": {
    "collapsed": true
   },
   "outputs": [],
   "source": [
    "# Time Complexity: O(n)\n",
    "class Solution:\n",
    "    \"\"\"\n",
    "        :type s: str\n",
    "        :rtype: int\n",
    "    \"\"\"\n",
    "    def lengthOfLongestSubstring(self, s):\n",
    "        start = maxLength = 0\n",
    "        usedChar = {}\n",
    "        for index,char in enumerate(s):\n",
    "            if char in usedChar and start <= usedChar[char]:\n",
    "                start = usedChar[char] + 1\n",
    "            else:\n",
    "                maxLength = max(maxLength, index - start + 1)\n",
    "            usedChar[char] = index\n",
    "        return maxLength"
   ]
  },
  {
   "cell_type": "code",
   "execution_count": 113,
   "metadata": {},
   "outputs": [
    {
     "name": "stdout",
     "output_type": "stream",
     "text": [
      "5\n"
     ]
    }
   ],
   "source": [
    "d = Solution()\n",
    "print(d.lengthOfLongestSubstring(a))"
   ]
  },
  {
   "cell_type": "code",
   "execution_count": null,
   "metadata": {
    "collapsed": true
   },
   "outputs": [],
   "source": []
  }
 ],
 "metadata": {
  "kernelspec": {
   "display_name": "Python 3",
   "language": "python",
   "name": "python3"
  },
  "language_info": {
   "codemirror_mode": {
    "name": "ipython",
    "version": 3
   },
   "file_extension": ".py",
   "mimetype": "text/x-python",
   "name": "python",
   "nbconvert_exporter": "python",
   "pygments_lexer": "ipython3",
   "version": "3.6.1"
  }
 },
 "nbformat": 4,
 "nbformat_minor": 2
}
